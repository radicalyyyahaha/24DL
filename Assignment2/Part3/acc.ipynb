{
 "cells": [
  {
   "cell_type": "code",
   "execution_count": null,
   "metadata": {},
   "outputs": [],
   "source": [
    "import matplotlib.pyplot as plt\n",
    "from train import main\n",
    "import argparse\n",
    "import copy\n",
    "\n",
    "def run_experiment(lengths, config):\n",
    "    accuracies = []\n",
    "\n",
    "    for T in lengths:\n",
    "        print(f\"Training for palindrome length: {T}\")\n",
    "        config.input_length = T \n",
    "\n",
    "        config_copy = copy.deepcopy(config)\n",
    "        val_accuracy = main(config_copy) \n",
    "        print(f\"Palindrome length {T}, Validation Accuracy: {val_accuracy:.4f}\")\n",
    "\n",
    "        accuracies.append(val_accuracy)\n",
    "\n",
    "    return accuracies\n",
    "\n",
    "def plot_results(lengths, accuracies):\n",
    "    plt.figure(figsize=(10, 6))\n",
    "    plt.plot(lengths, accuracies, marker='o', label=\"RNN Accuracy\")\n",
    "    plt.xlabel(\"Palindrome Length (T)\")\n",
    "    plt.ylabel(\"Validation Accuracy\")\n",
    "    plt.title(\"Validation Accuracy vs Palindrome Length\")\n",
    "    plt.grid()\n",
    "    plt.legend()\n",
    "    plt.show()\n",
    "\n",
    "parser = argparse.ArgumentParser()\n",
    "\n",
    "parser.add_argument('--input_length', type=int, default=5, help='Length of an input sequence')\n",
    "parser.add_argument('--input_dim', type=int, default=1, help='Dimensionality of input sequence')\n",
    "parser.add_argument('--num_classes', type=int, default=10, help='Dimensionality of output sequence')\n",
    "parser.add_argument('--num_hidden', type=int, default=128, help='Number of hidden units in the model')\n",
    "parser.add_argument('--batch_size', type=int, default=128, help='Number of examples to process in a batch')\n",
    "parser.add_argument('--learning_rate', type=float, default=0.001, help='Learning rate')\n",
    "parser.add_argument('--max_epoch', type=int, default=20, help='Number of epochs to run for')\n",
    "parser.add_argument('--max_norm', type=float, default=10.0)\n",
    "parser.add_argument('--data_size', type=int, default=100000, help='Size of the total dataset')\n",
    "parser.add_argument('--portion_train', type=float, default=0.8, help='Portion of the total dataset used for training')\n",
    "\n",
    "config = parser.parse_args([])  \n",
    "\n",
    "lengths = [5, 10, 15, 20, 25, 30]\n",
    "accuracies = run_experiment(lengths, config)\n",
    "\n",
    "plot_results(lengths, accuracies)"
   ]
  }
 ],
 "metadata": {
  "kernelspec": {
   "display_name": "base",
   "language": "python",
   "name": "python3"
  },
  "language_info": {
   "name": "python",
   "version": "3.11.5"
  }
 },
 "nbformat": 4,
 "nbformat_minor": 2
}
